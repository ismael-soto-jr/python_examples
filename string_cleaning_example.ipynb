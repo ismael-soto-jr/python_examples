{
 "cells": [
  {
   "cell_type": "code",
   "execution_count": 1,
   "id": "347963a2",
   "metadata": {},
   "outputs": [],
   "source": [
    "import re"
   ]
  },
  {
   "cell_type": "markdown",
   "id": "ed7d7b87-9c0a-4da9-b83b-8c126d6dd5a1",
   "metadata": {},
   "source": [
    "This regular expression example matches words that begin with at least two uppercase letters or two lowercase letters and prints the result."
   ]
  },
  {
   "cell_type": "code",
   "execution_count": 2,
   "id": "87104448",
   "metadata": {},
   "outputs": [],
   "source": [
    "pattern = re.compile(r'^[A-Z]{2}[a-zA-Z]*|^[a-z]{2}[a-zA-Z]*')\n"
   ]
  },
  {
   "cell_type": "code",
   "execution_count": 3,
   "id": "e7bd471a",
   "metadata": {},
   "outputs": [],
   "source": [
    "s = '''UCX \n",
    "AM \n",
    "PM \n",
    "hello \n",
    "University \n",
    "Programming'''"
   ]
  },
  {
   "cell_type": "code",
   "execution_count": 4,
   "id": "106c0cba",
   "metadata": {},
   "outputs": [
    {
     "name": "stdout",
     "output_type": "stream",
     "text": [
      "UCX\n",
      "AM\n",
      "PM\n",
      "hello\n"
     ]
    }
   ],
   "source": [
    "for word in ['UCX', 'AM', 'PM', 'hello', 'University', 'Programming']:\n",
    "    match = re.search(pattern, word)\n",
    "    if match:\n",
    "        print(match.group())"
   ]
  },
  {
   "cell_type": "markdown",
   "id": "fd90eb0c-8473-4c2c-94bc-ba59e5745c4c",
   "metadata": {},
   "source": [
    "This following regex removes comments from code (removes whatever is to the right of the # hashtag simbol in each line)."
   ]
  },
  {
   "cell_type": "code",
   "execution_count": 5,
   "id": "75ab4588",
   "metadata": {},
   "outputs": [],
   "source": [
    "comments = re.compile(r'(^ *#.*\\n)|( #.*\\n?)')\n",
    "replacement = \" \"\n",
    "# '(^ *#.*\\n)|( #.*\\n?)'gs"
   ]
  },
  {
   "cell_type": "code",
   "execution_count": 6,
   "id": "a7642f50",
   "metadata": {},
   "outputs": [],
   "source": [
    "sentence = '''# this is a comment \n",
    "print(\"hello world\") # this is another comment'''\n"
   ]
  },
  {
   "cell_type": "markdown",
   "id": "c0bb092e-0fde-4431-97b9-6c74d389dd2c",
   "metadata": {},
   "source": [
    "And prints out the code contained in the text sentence...."
   ]
  },
  {
   "cell_type": "code",
   "execution_count": 7,
   "id": "f64d5f7b",
   "metadata": {},
   "outputs": [
    {
     "name": "stdout",
     "output_type": "stream",
     "text": [
      " print(\"hello world\") \n"
     ]
    }
   ],
   "source": [
    "print(re.sub(comments, replacement, sentence))"
   ]
  },
  {
   "cell_type": "markdown",
   "id": "4049f4df-7b21-4154-bc6a-b6092cb4bf6b",
   "metadata": {},
   "source": [
    "Or we can do this... as an example of "
   ]
  },
  {
   "cell_type": "code",
   "execution_count": 8,
   "id": "538ca05c-12f8-4327-afe1-fd028d8ea571",
   "metadata": {},
   "outputs": [],
   "source": [
    "sentence = '''# this is a comment \n",
    "\"hello world\" # this is another comment\n",
    "\"here's some more text\"\n",
    "'''\n"
   ]
  },
  {
   "cell_type": "code",
   "execution_count": 9,
   "id": "16ea593d-91d2-4adc-97bf-e7d420d0172b",
   "metadata": {},
   "outputs": [
    {
     "name": "stdout",
     "output_type": "stream",
     "text": [
      " \"hello world\" \"here's some more text\"\n",
      "\n"
     ]
    }
   ],
   "source": [
    "print(re.sub(comments, replacement, sentence))"
   ]
  },
  {
   "cell_type": "markdown",
   "id": "e79b340b-328c-48b2-8d4c-8d0e02204297",
   "metadata": {},
   "source": [
    "The follwing regex example matches valid emails."
   ]
  },
  {
   "cell_type": "code",
   "execution_count": 10,
   "id": "dcb51c9e",
   "metadata": {},
   "outputs": [],
   "source": [
    "emails = '''\n",
    "example@gmail.com\n",
    "fake_staff@berkeley.edu\n",
    "test-321-check@my-work.net\n",
    "another_test@hotmail.cc\n",
    "test@gmail.c\n",
    "'''"
   ]
  },
  {
   "cell_type": "code",
   "execution_count": 11,
   "id": "0bd82c2f",
   "metadata": {},
   "outputs": [
    {
     "name": "stdout",
     "output_type": "stream",
     "text": [
      "<re.Match object; span=(1, 18), match='example@gmail.com'>\n",
      "<re.Match object; span=(19, 42), match='fake_staff@berkeley.edu'>\n",
      "<re.Match object; span=(43, 69), match='test-321-check@my-work.net'>\n",
      "<re.Match object; span=(70, 93), match='another_test@hotmail.cc'>\n"
     ]
    }
   ],
   "source": [
    "pattern = re.compile(r'[a-zA-Z0-9_.+-]+@[a-zA-Z0-9-]+\\.[a-zA-Z0-9-.]{2,}')\n",
    "\n",
    "matches = pattern.finditer(emails)\n",
    "\n",
    "for match in matches:\n",
    "    print(match)"
   ]
  },
  {
   "cell_type": "markdown",
   "id": "02180e96-93b7-41f5-ba6d-39ae3f8a0c82",
   "metadata": {},
   "source": [
    "The following example standardizes a list of phone numbers ('nums' below) to XXX-XXX-XXX format."
   ]
  },
  {
   "cell_type": "code",
   "execution_count": 12,
   "id": "ac77117a",
   "metadata": {},
   "outputs": [
    {
     "name": "stdout",
     "output_type": "stream",
     "text": [
      "(415)555-1212\n",
      "<re.Match object; span=(0, 13), match='(415)555-1212'>\n",
      "510-778-1234\n",
      "<re.Match object; span=(14, 26), match='510-778-1234'>\n",
      "408 555 4321\n",
      "<re.Match object; span=(27, 39), match='408 555 4321'>\n",
      "650.444.1213\n",
      "<re.Match object; span=(40, 52), match='650.444.1213'>\n",
      "7073730399\n",
      "<re.Match object; span=(53, 63), match='7073730399'>\n"
     ]
    }
   ],
   "source": [
    "# phone_search = re.compile(r'(.*\\d{3}.\\d{3}.\\d{4})')\n",
    "phone = re.compile(r'[\\(]?(\\d{3})[ -.]?(\\d{3})[ -.]?(\\d{4})')\n",
    "\n",
    "\n",
    "nums = '''(415)555-1212\n",
    "510-778-1234\n",
    "408 555 4321\n",
    "650.444.1213\n",
    "7073730399'''\n",
    "\n",
    "matches = phone.finditer(nums)\n",
    "\n",
    "for match in matches:\n",
    "    print(match.group())\n",
    "    print(match)\n",
    "\n",
    "# match = re.search(phone, nums)\n",
    "# if match:\n",
    "#     print(match.group())"
   ]
  },
  {
   "cell_type": "code",
   "execution_count": 13,
   "id": "420ddee6",
   "metadata": {},
   "outputs": [
    {
     "name": "stdout",
     "output_type": "stream",
     "text": [
      "415-555-1212\n",
      "510-778-1234\n",
      "408-555-4321\n",
      "650-444-1213\n",
      "707-373-0399\n"
     ]
    }
   ],
   "source": [
    "replacement = r'\\1-\\2-\\3'\n",
    "\n",
    "print(re.sub(phone, replacement, nums))"
   ]
  },
  {
   "cell_type": "code",
   "execution_count": null,
   "id": "7df43748",
   "metadata": {},
   "outputs": [],
   "source": []
  }
 ],
 "metadata": {
  "kernelspec": {
   "display_name": "Python 3 (ipykernel)",
   "language": "python",
   "name": "python3"
  },
  "language_info": {
   "codemirror_mode": {
    "name": "ipython",
    "version": 3
   },
   "file_extension": ".py",
   "mimetype": "text/x-python",
   "name": "python",
   "nbconvert_exporter": "python",
   "pygments_lexer": "ipython3",
   "version": "3.10.9"
  }
 },
 "nbformat": 4,
 "nbformat_minor": 5
}
