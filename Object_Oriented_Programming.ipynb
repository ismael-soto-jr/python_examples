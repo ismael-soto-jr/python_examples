{
 "cells": [
  {
   "cell_type": "markdown",
   "id": "9dc6c8c5",
   "metadata": {},
   "source": [
    "# Description:\n",
    "The following code are snippets from a recent assignment I completed. The topic is object oriented programming."
   ]
  },
  {
   "cell_type": "markdown",
   "id": "0d5ef939",
   "metadata": {},
   "source": [
    "# 1) Rectangle Class example\n",
    "\n",
    "Given the following Rectangle Class definition:\n",
    "\n",
    "    class Rectangle:\n",
    "\n",
    "\n",
    "\n",
    "    def __init__(self, width, height):\n",
    "        self.width = width\n",
    "        self.height = height\n",
    "\n",
    "    def area(self):\n",
    "        return self.width * self.height\n",
    "\n",
    "Modify the Rectangle code:\n",
    "\n",
    "    Add the following properties: name, x, y (coordinates)\n",
    "    Modify the Initializer so that in addition to width and height, it accepts the following optional arguments:\n",
    "    name (default to 'unnamed')\n",
    "    x (default to 0)\n",
    "    y (default to 0)\n",
    "    Add a method that returns a string of the object's name, x, y, width, height and area\n",
    "    Add a method that can change the x and y coordinates\n",
    "    \n",
    " Expand the Rectangle class so that it will handle special methods:\n",
    "\n",
    "    Override the + operator so that when two rectangles are added, it results in a new rectangle with the widths and heights of both rectangles added together respectively.\n",
    "    For example, a rectangle with a width and height of 10 and 5 plus another rectangle with a width and height of 20 and 7 equal a rectangle with a width and height of 30 and 12.\n",
    "    Override the comparison operators so that it compares rectangles areas.\n",
    "    Override the str() function so that it will print the name, x, y, width, height and area of the rectangle."
   ]
  },
  {
   "cell_type": "code",
   "execution_count": 1,
   "id": "d7e608f4",
   "metadata": {},
   "outputs": [],
   "source": [
    "class Point:\n",
    "    def __init__(self, x, y):\n",
    "        self.x = x\n",
    "        self.y = y \n",
    "    def __str__(self):\n",
    "        return f'({self.x}, {self.y})'"
   ]
  },
  {
   "cell_type": "code",
   "execution_count": 2,
   "id": "ff1ace1d",
   "metadata": {},
   "outputs": [],
   "source": [
    "class Rectangle:\n",
    "    def __init__(self, x, y, width, height, name = 'unamed'):\n",
    "        self.x = 0\n",
    "        self.y = 0\n",
    "        self.width = width\n",
    "        self.height = height\n",
    "        self.name = name\n",
    "    \n",
    "    def setValue(self, width, height, name):\n",
    "        self.width = width\n",
    "        self.height = height\n",
    "        self.name = name\n",
    "        \n",
    "    def area(self):\n",
    "        a = self.width * self.height\n",
    "        return a\n",
    "\n",
    "    def rename(self, name):\n",
    "        self.name = name\n",
    "        return name\n",
    "    \n",
    "    def __add__(self, Rectangle_object):\n",
    "        self.width += Rectangle_object.width\n",
    "        self.height += Rectangle_object.height\n",
    "        return  \"(updated width: {0}, updated height {1})\".format(self.width, self.height)\n",
    "       \n",
    "\n",
    "    def move(self, dx, dy):\n",
    "        self.x += dx\n",
    "        self.y += dy\n",
    "        \n",
    "    def __str__(self):\n",
    "        return  \"(x: {0}, y: {1}, w: {2}, h: {3}, name: {4})\".format(self.x, self.y, self.width, self.height, self.name)\n",
    "    "
   ]
  },
  {
   "cell_type": "code",
   "execution_count": 3,
   "id": "6f9d905b",
   "metadata": {},
   "outputs": [
    {
     "name": "stdout",
     "output_type": "stream",
     "text": [
      "(x: 0, y: 0, w: 100, h: 50, name: new_name)\n",
      "5000\n",
      "(x: 0, y: 0, w: 100, h: 50, name: new_name)\n",
      "5000\n",
      "5000\n",
      "new_name_again\n",
      "(x: 28, y: -15, w: 100, h: 50, name: new_name_again)\n",
      "100\n",
      "50\n"
     ]
    }
   ],
   "source": [
    "rec = Rectangle(10, 5, 100, 50, \"new_name\")\n",
    "print(rec)\n",
    "print(rec.area())\n",
    "\n",
    "\n",
    "print(rec)\n",
    "print(rec.area())\n",
    "rec.move(28, -15)\n",
    "print(rec.area())\n",
    "print(rec.rename(\"new_name_again\"))\n",
    "print(rec)\n",
    "print(rec.width)\n",
    "print(rec.height)"
   ]
  },
  {
   "cell_type": "code",
   "execution_count": 4,
   "id": "ebd4fb25",
   "metadata": {},
   "outputs": [
    {
     "name": "stdout",
     "output_type": "stream",
     "text": [
      "(x: 0, y: 0, w: 10, h: 5, name: rec_1)\n",
      "50\n",
      "(x: 0, y: 0, w: 20, h: 7, name: rec_2)\n",
      "140\n",
      "(x: 0, y: 0, w: 30, h: 12, name: rec_1)\n"
     ]
    }
   ],
   "source": [
    "rec_1 = Rectangle(10, 5, 10, 5, \"rec_1\")\n",
    "rec_2 = Rectangle(20, 7, 20, 7, \"rec_2\")\n",
    "print(rec_1)\n",
    "print(rec_1.area())\n",
    "print(rec_2)\n",
    "print(rec_2.area())\n",
    "\n",
    "rec_1 + rec_2\n",
    "print(rec_1)\n"
   ]
  },
  {
   "cell_type": "code",
   "execution_count": 5,
   "id": "6c616982",
   "metadata": {},
   "outputs": [
    {
     "name": "stdout",
     "output_type": "stream",
     "text": [
      "360\n",
      "(x: 0, y: 0, w: 30, h: 12, name: rec_1)\n"
     ]
    }
   ],
   "source": [
    "print(rec_1.area())\n",
    "print(rec_1)"
   ]
  },
  {
   "cell_type": "markdown",
   "id": "42b7bf73",
   "metadata": {},
   "source": [
    "# 2) Vehicle Class Example"
   ]
  },
  {
   "cell_type": "markdown",
   "id": "1993c7f3",
   "metadata": {},
   "source": [
    "Write a Vehicle class. It should have the following properties:\n",
    "\n",
    "    Name\n",
    "    Odometer (total miles driven) – defaults to 0\n",
    "    Speed (miles/hour)\n",
    "    \n",
    "It should also have the following methods:\n",
    "\n",
    "    Initializer - accepts name and speed as arguments\n",
    "    Drive - accepts minutes as arguments and should return the distance travelled and update the odometer\n",
    "\n",
    "Once you have written the vehicle class, write code to instantiate a few Vehicle objects and test it to see that it works.\n",
    "\n",
    "Design a Vehicle hierarchy. Use Vehicle as the root class and feel free to make changes to it.\n",
    "\n",
    "Then think about what types of vehicles are there (examples: bicycle, motorcycle, truck, hybrid car, etc…) What properties and members do they have in common, and what properties and members are unique?\n",
    "\n",
    "Write at least:\n",
    "\n",
    "    Five class definitions with initializers\n",
    "    Four unique properties\n",
    "    Two unique methods\n",
    "    \n",
    "Except for defining instance variables, there is no need to write full method bodies for this assignment. Print a message or use the pass statement instead."
   ]
  },
  {
   "cell_type": "code",
   "execution_count": 6,
   "id": "1f8ba42a",
   "metadata": {},
   "outputs": [],
   "source": [
    "class Vehicle:\n",
    "    def __init__(self, name, Odometer , speed):\n",
    "        self.name = name\n",
    "        self.Odometer = Odometer\n",
    "        self.speed = speed\n",
    "    \n",
    "    def __str__(self):\n",
    "        return  \"(name: {0}, Odometer: {1}, speed: {2})\".format(self.name, self.Odometer, self.speed)\n",
    "        \n",
    "        \n",
    "    def drive(self, minutes):\n",
    "        self.minutes = minutes\n",
    "        self.hours = minutes/60\n",
    "        self.distance = self.speed * self.hours\n",
    "        self.Odometer += self.distance\n",
    "        return  \"(updated Odometer: {0}, added miles {1})\".format(self.Odometer, self.distance)\n",
    "\n",
    "\n",
    " \n",
    " \n",
    " \n",
    " \n",
    " \n"
   ]
  },
  {
   "cell_type": "code",
   "execution_count": 7,
   "id": "649ce305",
   "metadata": {},
   "outputs": [],
   "source": [
    "vec = Vehicle(\"Honda\", 0, 45)"
   ]
  },
  {
   "cell_type": "code",
   "execution_count": 8,
   "id": "d2a95522",
   "metadata": {},
   "outputs": [
    {
     "name": "stdout",
     "output_type": "stream",
     "text": [
      "(name: Honda, Odometer: 0, speed: 45)\n"
     ]
    }
   ],
   "source": [
    "print(vec)"
   ]
  },
  {
   "cell_type": "code",
   "execution_count": 9,
   "id": "8917968f",
   "metadata": {},
   "outputs": [
    {
     "data": {
      "text/plain": [
       "'(updated Odometer: 112.5, added miles 112.5)'"
      ]
     },
     "execution_count": 9,
     "metadata": {},
     "output_type": "execute_result"
    }
   ],
   "source": [
    "vec.drive(150)"
   ]
  },
  {
   "cell_type": "code",
   "execution_count": 10,
   "id": "04d9b478",
   "metadata": {},
   "outputs": [],
   "source": [
    "vec_2 = Vehicle(\"Toyota\", 150, 100)"
   ]
  },
  {
   "cell_type": "code",
   "execution_count": 11,
   "id": "0e2de6df",
   "metadata": {},
   "outputs": [
    {
     "name": "stdout",
     "output_type": "stream",
     "text": [
      "(name: Toyota, Odometer: 150, speed: 100)\n"
     ]
    }
   ],
   "source": [
    "print(vec_2)"
   ]
  },
  {
   "cell_type": "code",
   "execution_count": 12,
   "id": "143126db",
   "metadata": {},
   "outputs": [
    {
     "data": {
      "text/plain": [
       "'(updated Odometer: 566.6666666666667, added miles 416.6666666666667)'"
      ]
     },
     "execution_count": 12,
     "metadata": {},
     "output_type": "execute_result"
    }
   ],
   "source": [
    "vec_2.drive(250)"
   ]
  },
  {
   "cell_type": "code",
   "execution_count": 13,
   "id": "edae4d45",
   "metadata": {},
   "outputs": [
    {
     "name": "stdout",
     "output_type": "stream",
     "text": [
      "(name: Toyota, Odometer: 566.6666666666667, speed: 100)\n"
     ]
    }
   ],
   "source": [
    "print(vec_2)"
   ]
  }
 ],
 "metadata": {
  "kernelspec": {
   "display_name": "Python 3 (ipykernel)",
   "language": "python",
   "name": "python3"
  },
  "language_info": {
   "codemirror_mode": {
    "name": "ipython",
    "version": 3
   },
   "file_extension": ".py",
   "mimetype": "text/x-python",
   "name": "python",
   "nbconvert_exporter": "python",
   "pygments_lexer": "ipython3",
   "version": "3.10.9"
  }
 },
 "nbformat": 4,
 "nbformat_minor": 5
}
